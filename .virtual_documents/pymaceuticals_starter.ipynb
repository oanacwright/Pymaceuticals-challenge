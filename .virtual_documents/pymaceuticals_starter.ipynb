


# Dependencies and Setup
import matplotlib.pyplot as plt
import pandas as pd
import scipy.stats as st

# Study data files
mouse_metadata_path = "Resources/Mouse_metadata.csv"
study_results_path = "Resources/Study_results.csv"

# Read the mouse data and the study results
mouse_metadata = pd.read_csv(mouse_metadata_path)
study_results = pd.read_csv(study_results_path)

# Combine the data into a single DataFrame

mouse_data = pd.merge(study_results, mouse_metadata, on= 'Mouse ID')

# Display the data table for preview
mouse_data.head()


# Checking the number of mice.
print(mouse_data['Mouse ID'].nunique())


# Our data should be uniquely identified by Mouse ID and Timepoint
# Get the duplicate mice by ID number that shows up for Mouse ID and Timepoint.
duplicate_mouse_data=mouse_data[mouse_data.duplicated(subset=['Mouse ID', 'Timepoint'], keep = False)]
duplicate_mouse_id = duplicate_mouse_data.drop_duplicates(subset=["Mouse ID"])
print(duplicate_mouse_id['Mouse ID'])


# Optional: Get all the data for the duplicate mouse ID.
duplicate_mouse_location = mouse_data.loc[mouse_data["Mouse ID"] == 'g989']
duplicate_mouse_location


# Create a clean DataFrame by dropping the duplicate mouse by its ID.
clean_mouse_data = mouse_data.drop(mouse_data[mouse_data['Mouse ID'] == 'g989'].index)
clean_mouse_data.head()


# Checking the number of mice in the clean DataFrame.
print(clean_mouse_data['Mouse ID'].nunique())






# Generate a summary statistics table of mean, median, variance, standard deviation, and SEM of the tumor volume for each regimen
# Use groupby and summary statistical methods to calculate the following properties of each drug regimen:

mouse_data_byregimen = clean_mouse_data.groupby('Drug Regimen')

# mean, median, variance, standard deviation, and SEM of the tumor volume.

drugregimen_mean=mouse_data_byregimen['Tumor Volume (mm3)'].mean()
drugregimen_median=mouse_data_byregimen['Tumor Volume (mm3)'].median()
drugregimen_var=mouse_data_byregimen['Tumor Volume (mm3)'].var()
drugregimen_std=mouse_data_byregimen['Tumor Volume (mm3)'].std()
drugregimen_sem=mouse_data_byregimen['Tumor Volume (mm3)'].sem()

# Assemble the resulting series into a single summary DataFrame.
drugregimen_tumorstats = { 'Mean Tumor Volume':drugregimen_mean,
                          'Median Tumor Volume':drugregimen_median,
                          'Tumor Volume Variance':drugregimen_var,
                          'Tumor Volume Std. Dev.':drugregimen_std,
                          'Tumor Volume Std. Err.':drugregimen_sem
                         }
tumor_volume=pd.DataFrame(drugregimen_tumorstats)
tumor_volume


# A more advanced method to generate a summary statistics table of mean, median, variance, standard deviation,
# and SEM of the tumor volume for each regimen (only one method is required in the solution)

# Using the aggregation method, produce the same summary statistics in a single line
summary_stats = ['mean','median','var','std','sem']
agg_tumor_volume=clean_mouse_data.groupby(['Drug Regimen']).agg({'Tumor Volume (mm3)': summary_stats})

agg_tumor_volume






# Generate a bar plot showing the total number of rows (Mouse ID/Timepoints) for each drug regimen using Pandas.
timpointperdrug=clean_mouse_data.groupby('Drug Regimen')['Timepoint'].count().sort_values(ascending=False)
MIDvsTimePct=timpointperdrug.plot(kind='bar', x='Drug Regimen', y='Timepoint',figsize=(8,6))
plt.xlabel('Drug Regimen')
plt.ylabel('# of Observed Mouse Timepoints')
plt.show()


# Generate a bar plot showing the total number of rows (Mouse ID/Timepoints) for each drug regimen using pyplot.
plt.figure(figsize=(8,6))
plt.bar(x=timpointperdrug.index, height=timpointperdrug.values)
plt.xlabel('Drug Regimen')
plt.ylabel('# of Observed Mouse Timepoints')
plt.xticks(rotation=90)
plt.show()


# Generate a pie chart, using Pandas, showing the distribution of unique female versus male mice used in the study
# Get the unique mice with their gender
mouse_gender=clean_mouse_data[['Mouse ID','Sex']]
mouse_gender_unique=mouse_gender.drop_duplicates(subset='Mouse ID', keep='first')
# Make the pie chart
plot = mouse_gender_unique['Sex'].value_counts().plot(kind  = "pie", y = "Count", labels = ["Male", "Female"], autopct = "%1.1f%%")
plt.show()



# Generate a pie chart, using pyplot, showing the distribution of unique female versus male mice used in the study

# Get the unique mice with their gender

mouse_gender1=clean_mouse_data[['Mouse ID','Sex']]
mouse_gender1_unique=mouse_gender.drop_duplicates(subset='Mouse ID', keep='first')
# Make the pie chart
plt.pie(mouse_gender1_unique["Sex"].value_counts(), labels=["Male","Female"],autopct="%1.1f%%")
plt.ylabel('count')
plt.show()





# Calculate the final tumor volume of each mouse across four of the treatment regimens:
# Capomulin, Ramicane, Infubinol, and Ceftamin
# Start by getting the last (greatest) timepoint for each mouse
# Merge this group df with the original DataFrame to get the tumor volume at the last timepoint

mouse_data_bymouseid=clean_mouse_data.groupby('Mouse ID')
maxtimepoint_index=mouse_data_bymouseid['Timepoint'].idxmax()
maxtimepoint=clean_mouse_data.loc[maxtimepoint_index.reset_index(drop=True)]
maxtimepoint


# Put treatments into a list for for loop (and later for plot labels)
selected_regimens=['Capomulin', 'Ramicane', 'Infubinol', 'Ceftamin']

# Create empty list to fill with tumor vol data (for plotting)
list_tumor_value=[]

# Calculate the IQR and quantitatively determine if there are any potential outliers.

for regimen in selected_regimens:
    regimen_data=maxtimepoint[maxtimepoint["Drug Regimen"] == regimen]

    # Locate the rows which contain mice on each drug and get the tumor volumes
    # add subset
    tumorvolume_list=regimen_data['Tumor Volume (mm3)'].tolist()
    list_tumor_value.append(tumorvolume_list)

    # Caclculate IQR for list_tumour_values
    quartiles = regimen_data["Tumor Volume (mm3)"].quantile([0.25,0.5,0.75])
    lowerq = quartiles[0.25]
    upperq = quartiles[0.75]
    iqr = upperq - lowerq

    # Determine outliers using upper and lower bounds
    lower_bound = lowerq - 1.5*iqr
    upper_bound = upperq + 1.5*iqr
    list_potential_outliers = regimen_data.loc[(regimen_data["Tumor Volume (mm3)"] < lower_bound) | 
            (regimen_data["Tumor Volume (mm3)"] > upper_bound), "Tumor Volume (mm3)"]

    #Print results for current regimen
    if len(list_potential_outliers) > 0:
        print(f"{regimen}'s potential outliers: {list_potential_outliers.tolist()} and IQR of {iqr:.2f}.")
    else:
        print(f"{regimen} has no outliers and  IQR of {iqr:.2f}.")


# Generate a box plot that shows the distribution of the tumor volume for each treatment group.
fig, ax = plt.subplots()

# Create a boxplot using the axis object
ax.boxplot(list_tumor_value,flierprops={'marker': 'o', 'markerfacecolor': 'red'})

# Set the y-axis label
ax.set_ylabel('Final Tumor Volume (mm3)')

# Set the x-axis tick labels to be the distinct regimens
ax.set_xticklabels(selected_regimens)

# Show the plot
plt.show()





# Generate a line plot of tumor volume vs. time point for a single mouse treated with Capomulin

capomulin = clean_mouse_data[(clean_mouse_data['Drug Regimen'] == "Capomulin") & (clean_mouse_data['Mouse ID'] == "l509")]

# plot the data as a line plot
plt.plot(capomulin["Timepoint"], capomulin["Tumor Volume (mm3)"])

# add labels and title
plt.xlabel('Timepoint (days)')
plt.ylabel('Tumor Volume (mm3)')
plt.title('Capomulin treatment of mouse l509')

# show the plot
plt.show()


# Generate a scatter plot of mouse weight vs. the average observed tumor volume for the entire Capomulin regimen

# Filter the DataFrame for Capomulin regimen
capomulin_regimen = clean_mouse_data[clean_mouse_data['Drug Regimen'] == 'Capomulin']

# Group the DataFrame by mouse ID and calculate average tumor volume and mouse weight
grouped_capomulin = capomulin_regimen.groupby('Mouse ID').agg(
    Average_Tumor_Volume=('Tumor Volume (mm3)', 'mean'),
    Mouse_Weight=('Weight (g)', 'mean')).reset_index()

# Create scatter plot
plt.scatter(grouped_capomulin['Mouse_Weight'], grouped_capomulin['Average_Tumor_Volume'])

# Add labels
plt.xlabel('Weight (g)')
plt.ylabel('Average Tumor Volume (mm3)')

# Show the plot
plt.show()





# Calculate the correlation coefficient and a linear regression model
# for mouse weight and average observed tumor volume for the entire Capomulin regimen

# Filter the DataFrame for Capomulin regimen
capomulin_regimen = clean_mouse_data[clean_mouse_data['Drug Regimen'] == 'Capomulin']

# Group the DataFrame by mouse ID and calculate average tumor volume and mouse weight
grouped_capomulin = capomulin_regimen.groupby('Mouse ID').agg(
    Average_Tumor_Volume=('Tumor Volume (mm3)', 'mean'),
    Mouse_Weight=('Weight (g)', 'mean')).reset_index()

# Create scatter plot
plt.scatter(grouped_capomulin['Mouse_Weight'], grouped_capomulin['Average_Tumor_Volume'])

# Perform linear regression
slope, intercept, rvalue, pvalue, stderr = st.linregress(grouped_capomulin['Mouse_Weight'], grouped_capomulin['Average_Tumor_Volume'])

# Calculate regression line
regress_values = grouped_capomulin['Mouse_Weight'] * slope + intercept

# Plot the regression line
plt.plot(grouped_capomulin['Mouse_Weight'], regress_values, color='red')

# Add labels
plt.xlabel('Weight (g)')
plt.ylabel('Average Tumor Volume (mm3)')

# Display correlation coefficient
print(f'The Correlation between mouse weight and the average tumor volume is: {rvalue:.2f}')

# Show the plot
plt.show()



